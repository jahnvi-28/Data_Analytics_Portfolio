{
 "cells": [
  {
   "cell_type": "markdown",
   "id": "c5b803a6-dd7a-4f58-9e30-307daa2a1754",
   "metadata": {},
   "source": [
    "# APIs & Web Scraping"
   ]
  },
  {
   "cell_type": "markdown",
   "id": "42d73dc6-7e4d-4523-8f55-d197b0da2ef7",
   "metadata": {},
   "source": [
    "In this notebook, I collect job data using APIs and then salary data using Web Scraping.\n",
    "\n",
    "## Table of Contents:\n",
    "\n",
    "1. [Collecting Job Data Using APIs](#Collecting-Job-Data-Using-APIs)\n",
    "2. [Web Scraping Average Salary Data](#Web-Scraping-Average-Salary-Data)\n"
   ]
  },
  {
   "cell_type": "markdown",
   "id": "eb747db6-ae59-4ee6-a10f-1ca8675d9ab4",
   "metadata": {},
   "source": [
    "## Collecting Job Data Using APIs"
   ]
  },
  {
   "cell_type": "markdown",
   "id": "a9c524f3-f410-4e90-b8d2-2fa2c0ea6dd5",
   "metadata": {},
   "source": [
    "Dataset Used in Assignment:\n",
    "\n",
    "The dataset used in this analysis comes from the following source: https://www.kaggle.com/promptcloud/jobs-on-naukricom under the under a Public Domain license. The original dataset is a csv, which has been converted to json.\n",
    "\n",
    "json link: https://cf-courses-data.s3.us.cloud-object-storage.appdomain.cloud/IBM-DA0321EN-SkillsNetwork/labs/module%201/Accessing%20Data%20Using%20APIs/jobs.json\n",
    "\n",
    " ##### The keys in the json are \n",
    " * Job Title\n",
    "  * Job Experience Required\n",
    "  * Key Skills\n",
    "  * Role Category\n",
    "  * Location\n",
    "  * Functional Area\n",
    "  * Industry\n",
    "  * Role \n"
   ]
  },
  {
   "cell_type": "markdown",
   "id": "20f828c7-141c-478d-90a4-69e1cc1851fa",
   "metadata": {},
   "source": [
    "### Objective\n",
    "\n",
    "Determine the number of jobs currently open for various technologies and for various locations"
   ]
  },
  {
   "cell_type": "code",
   "execution_count": 65,
   "id": "0c6c08f7-e804-49c7-9d35-b7ba3727a431",
   "metadata": {},
   "outputs": [],
   "source": [
    "#Import required libraries\n",
    "import requests\n",
    "import pandas as pd\n",
    "import json\n",
    "import urllib3\n",
    "\n",
    "urllib3.disable_warnings(urllib3.exceptions.InsecureRequestWarning)\n",
    "\n",
    "api_url=\"https://cf-courses-data.s3.us.cloud-object-storage.appdomain.cloud/IBM-DA0321EN-SkillsNetwork/labs/module%201/Accessing%20Data%20Using%20APIs/jobs.json\""
   ]
  },
  {
   "cell_type": "markdown",
   "id": "985f09d2-4af8-446a-af46-b6a1fc369017",
   "metadata": {},
   "source": [
    "### Find Number of Jobs per Technology"
   ]
  },
  {
   "cell_type": "code",
   "execution_count": 66,
   "id": "0c5fd5fd-367a-469b-a167-2d9239c00deb",
   "metadata": {},
   "outputs": [],
   "source": [
    "# Call the API and get JSON data\n",
    "response = requests.get(api_url, verify=False)\n",
    "\n",
    "# if no errors\n",
    "if response.status_code == 200:\n",
    "    # Store the result in a variable called data (type = list of dictionaries)\n",
    "    data = response.json()\n",
    "\n",
    "    # Load into a pandas DataFrame\n",
    "    tech_df = pd.DataFrame(data)\n",
    "\n",
    "    # Clean and split the \"Key Skills\" column into a list of skills\n",
    "    # Note: this is necessary so we are able to count the occurrences of individual technologies\n",
    "    # (otherwise it would be difficult to distinguish C from C#, for example)\n",
    "    tech_df['Skill List'] = (\n",
    "        tech_df['Key Skills']\n",
    "        .str.lower()                      # lowercase\n",
    "        .str.split('|')                   # split on '|'\n",
    "        .apply(lambda skills: [s.strip() for s in skills])  # strip spaces\n",
    "    )\n",
    "\n",
    "\n",
    "# if error\n",
    "else:\n",
    "    print(\"Failed to fetch data. Status code:\", response.status_code)"
   ]
  },
  {
   "cell_type": "code",
   "execution_count": 67,
   "id": "9ba1d923-6e03-4f80-a298-2f63cccb8d67",
   "metadata": {},
   "outputs": [
    {
     "data": {
      "text/html": [
       "<div>\n",
       "<style scoped>\n",
       "    .dataframe tbody tr th:only-of-type {\n",
       "        vertical-align: middle;\n",
       "    }\n",
       "\n",
       "    .dataframe tbody tr th {\n",
       "        vertical-align: top;\n",
       "    }\n",
       "\n",
       "    .dataframe thead th {\n",
       "        text-align: right;\n",
       "    }\n",
       "</style>\n",
       "<table border=\"1\" class=\"dataframe\">\n",
       "  <thead>\n",
       "    <tr style=\"text-align: right;\">\n",
       "      <th></th>\n",
       "      <th>Id</th>\n",
       "      <th>Job Title</th>\n",
       "      <th>Job Experience Required</th>\n",
       "      <th>Key Skills</th>\n",
       "      <th>Role Category</th>\n",
       "      <th>Location</th>\n",
       "      <th>Functional Area</th>\n",
       "      <th>Industry</th>\n",
       "      <th>Role</th>\n",
       "      <th>Skill List</th>\n",
       "    </tr>\n",
       "  </thead>\n",
       "  <tbody>\n",
       "    <tr>\n",
       "      <th>0</th>\n",
       "      <td>0</td>\n",
       "      <td>Digital Media Planner</td>\n",
       "      <td>5 - 10 yrs</td>\n",
       "      <td>Media Planning| Digital Media</td>\n",
       "      <td>Advertising</td>\n",
       "      <td>Los Angeles</td>\n",
       "      <td>Marketing , Advertising , MR , PR , Media Plan...</td>\n",
       "      <td>Advertising, PR, MR, Event Management</td>\n",
       "      <td>Media Planning Executive/Manager</td>\n",
       "      <td>[media planning, digital media]</td>\n",
       "    </tr>\n",
       "    <tr>\n",
       "      <th>1</th>\n",
       "      <td>1</td>\n",
       "      <td>Online Bidding Executive</td>\n",
       "      <td>2 - 5 yrs</td>\n",
       "      <td>pre sales| closing| software knowledge| client...</td>\n",
       "      <td>Retail Sales</td>\n",
       "      <td>New York</td>\n",
       "      <td>Sales , Retail , Business Development</td>\n",
       "      <td>IT-Software, Software Services</td>\n",
       "      <td>Sales Executive/Officer</td>\n",
       "      <td>[pre sales, closing, software knowledge, clien...</td>\n",
       "    </tr>\n",
       "    <tr>\n",
       "      <th>2</th>\n",
       "      <td>2</td>\n",
       "      <td>Trainee Research/ Research Executive- Hi- Tech...</td>\n",
       "      <td>0 - 1 yrs</td>\n",
       "      <td>Computer science| Fabrication| Quality check| ...</td>\n",
       "      <td>R&amp;D</td>\n",
       "      <td>San Francisco</td>\n",
       "      <td>Engineering Design , R&amp;D</td>\n",
       "      <td>Recruitment, Staffing</td>\n",
       "      <td>R&amp;D Executive</td>\n",
       "      <td>[computer science, fabrication, quality check,...</td>\n",
       "    </tr>\n",
       "    <tr>\n",
       "      <th>3</th>\n",
       "      <td>3</td>\n",
       "      <td>Technical Support</td>\n",
       "      <td>0 - 5 yrs</td>\n",
       "      <td>Technical Support</td>\n",
       "      <td>Admin/Maintenance/Security/Datawarehousing</td>\n",
       "      <td>Washington DC</td>\n",
       "      <td>IT Software - Application Programming , Mainte...</td>\n",
       "      <td>IT-Software, Software Services</td>\n",
       "      <td>Technical Support Engineer</td>\n",
       "      <td>[technical support]</td>\n",
       "    </tr>\n",
       "    <tr>\n",
       "      <th>4</th>\n",
       "      <td>4</td>\n",
       "      <td>Software Test Engineer -hyderabad</td>\n",
       "      <td>2 - 5 yrs</td>\n",
       "      <td>manual testing| test engineering| test cases| ...</td>\n",
       "      <td>Programming &amp; Design</td>\n",
       "      <td>Boston</td>\n",
       "      <td>IT Software - QA &amp; Testing</td>\n",
       "      <td>IT-Software, Software Services</td>\n",
       "      <td>Testing Engineer</td>\n",
       "      <td>[manual testing, test engineering, test cases,...</td>\n",
       "    </tr>\n",
       "  </tbody>\n",
       "</table>\n",
       "</div>"
      ],
      "text/plain": [
       "   Id                                          Job Title  \\\n",
       "0   0                              Digital Media Planner   \n",
       "1   1                           Online Bidding Executive   \n",
       "2   2  Trainee Research/ Research Executive- Hi- Tech...   \n",
       "3   3                                  Technical Support   \n",
       "4   4                  Software Test Engineer -hyderabad   \n",
       "\n",
       "  Job Experience Required                                         Key Skills  \\\n",
       "0              5 - 10 yrs                      Media Planning| Digital Media   \n",
       "1               2 - 5 yrs  pre sales| closing| software knowledge| client...   \n",
       "2               0 - 1 yrs  Computer science| Fabrication| Quality check| ...   \n",
       "3               0 - 5 yrs                                  Technical Support   \n",
       "4               2 - 5 yrs  manual testing| test engineering| test cases| ...   \n",
       "\n",
       "                                Role Category       Location  \\\n",
       "0                                 Advertising    Los Angeles   \n",
       "1                                Retail Sales       New York   \n",
       "2                                         R&D  San Francisco   \n",
       "3  Admin/Maintenance/Security/Datawarehousing  Washington DC   \n",
       "4                        Programming & Design         Boston   \n",
       "\n",
       "                                     Functional Area  \\\n",
       "0  Marketing , Advertising , MR , PR , Media Plan...   \n",
       "1              Sales , Retail , Business Development   \n",
       "2                           Engineering Design , R&D   \n",
       "3  IT Software - Application Programming , Mainte...   \n",
       "4                         IT Software - QA & Testing   \n",
       "\n",
       "                                Industry                              Role  \\\n",
       "0  Advertising, PR, MR, Event Management  Media Planning Executive/Manager   \n",
       "1         IT-Software, Software Services           Sales Executive/Officer   \n",
       "2                  Recruitment, Staffing                     R&D Executive   \n",
       "3         IT-Software, Software Services        Technical Support Engineer   \n",
       "4         IT-Software, Software Services                  Testing Engineer   \n",
       "\n",
       "                                          Skill List  \n",
       "0                    [media planning, digital media]  \n",
       "1  [pre sales, closing, software knowledge, clien...  \n",
       "2  [computer science, fabrication, quality check,...  \n",
       "3                                [technical support]  \n",
       "4  [manual testing, test engineering, test cases,...  "
      ]
     },
     "execution_count": 67,
     "metadata": {},
     "output_type": "execute_result"
    }
   ],
   "source": [
    "# visualize the dataframe\n",
    "tech_df.head()"
   ]
  },
  {
   "cell_type": "code",
   "execution_count": 68,
   "id": "8ffb76c1-885b-42be-8cf8-33150a781cc0",
   "metadata": {},
   "outputs": [],
   "source": [
    "def get_number_of_jobs_T(technology):\n",
    "    # technology refers to one item in the 'key skills' value, e.g. 'Python'\n",
    "    \n",
    "    # Count how many jobs mention the technology\n",
    "    count = tech_df['Skill List'].apply(lambda skills: technology.lower() in skills)\n",
    "    number_of_jobs = count.sum()\n",
    "        \n",
    "    return technology,number_of_jobs"
   ]
  },
  {
   "cell_type": "markdown",
   "id": "b5312803-f85f-4d20-b70c-2cbaccb8fdff",
   "metadata": {},
   "source": [
    "Calling the function for Python and checking if it works."
   ]
  },
  {
   "cell_type": "code",
   "execution_count": 69,
   "id": "cf1322aa-871d-482a-b62a-9554a5c609f5",
   "metadata": {},
   "outputs": [
    {
     "data": {
      "text/plain": [
       "('Python', 1165)"
      ]
     },
     "execution_count": 69,
     "metadata": {},
     "output_type": "execute_result"
    }
   ],
   "source": [
    "get_number_of_jobs_T(\"Python\")"
   ]
  },
  {
   "cell_type": "markdown",
   "id": "8e02c027-3bbb-429b-a7f0-95026692ad5f",
   "metadata": {},
   "source": [
    "### Find Number of Jobs per Location"
   ]
  },
  {
   "cell_type": "code",
   "execution_count": 70,
   "id": "96cf1985-557d-4446-917b-c897d35647c7",
   "metadata": {},
   "outputs": [],
   "source": [
    " def get_number_of_jobs_L(location):\n",
    "\n",
    "    number_of_jobs = tech_df[tech_df['Location'].str.strip().str.lower() == location.lower()].shape[0]\n",
    "        \n",
    "    return location,number_of_jobs\n",
    "    "
   ]
  },
  {
   "cell_type": "markdown",
   "id": "92ebafb2-883e-4182-a54f-ebf0526cd3cb",
   "metadata": {},
   "source": [
    "Call the function for Los Angeles and check if it is working."
   ]
  },
  {
   "cell_type": "code",
   "execution_count": 71,
   "id": "8962f900-7dbc-45b4-97b1-4c37e39f5601",
   "metadata": {},
   "outputs": [
    {
     "data": {
      "text/plain": [
       "('Los Angeles', 640)"
      ]
     },
     "execution_count": 71,
     "metadata": {},
     "output_type": "execute_result"
    }
   ],
   "source": [
    "get_number_of_jobs_L(\"Los Angeles\")"
   ]
  },
  {
   "cell_type": "markdown",
   "id": "0240bcc1-ccda-4e0c-82d7-61f58ba6dff9",
   "metadata": {},
   "source": [
    "### Collect Number of Job Postings for Variety of Technologies\n",
    "\n",
    "Collect the number of job postings for the following languages using the API:\n",
    "\n",
    "- C\n",
    "- C#\n",
    "- C++\n",
    "- Java\n",
    "- JavaScript\n",
    "- Python\n",
    "- Scala\n",
    "- Oracle\n",
    "- SQL Server\n",
    "- MySQL Server\n",
    "- PostgreSQL\n",
    "- MongoDB"
   ]
  },
  {
   "cell_type": "code",
   "execution_count": 72,
   "id": "112ab6f3-1702-40a2-b302-f15073aa516b",
   "metadata": {},
   "outputs": [],
   "source": [
    "# create a list of all technologies required\n",
    "technologies_list = ['C','C#','C++','Java','JavaScript','Python','Scala','Oracle','SQL Server','MySQL','PostgreSQL','MongoDB']"
   ]
  },
  {
   "cell_type": "markdown",
   "id": "1858b3da-6d03-4cd1-9c56-4f7bbc34b898",
   "metadata": {},
   "source": [
    "#### Get data for number of job postings for each technology in the list above"
   ]
  },
  {
   "cell_type": "code",
   "execution_count": 73,
   "id": "00576c96-de32-4625-a877-f8292be6004f",
   "metadata": {},
   "outputs": [],
   "source": [
    "# initialize empty list\n",
    "tech_data = []\n",
    "\n",
    "# Loop through each technology and find # job postings\n",
    "for technology in technologies_list:\n",
    "    [tech,number_of_jobs] = get_number_of_jobs_T(technology)\n",
    "    \n",
    "    # save the info to tech_data list\n",
    "    tech_data.append([tech,number_of_jobs])\n",
    "\n",
    "# create dataframe\n",
    "df = pd.DataFrame(tech_data,columns = ['Technology','Number of Job Postings'])"
   ]
  },
  {
   "cell_type": "code",
   "execution_count": 74,
   "id": "5722a15a-097d-41eb-9ccb-ffa3bfdfa638",
   "metadata": {},
   "outputs": [
    {
     "data": {
      "text/html": [
       "<div>\n",
       "<style scoped>\n",
       "    .dataframe tbody tr th:only-of-type {\n",
       "        vertical-align: middle;\n",
       "    }\n",
       "\n",
       "    .dataframe tbody tr th {\n",
       "        vertical-align: top;\n",
       "    }\n",
       "\n",
       "    .dataframe thead th {\n",
       "        text-align: right;\n",
       "    }\n",
       "</style>\n",
       "<table border=\"1\" class=\"dataframe\">\n",
       "  <thead>\n",
       "    <tr style=\"text-align: right;\">\n",
       "      <th></th>\n",
       "      <th>Technology</th>\n",
       "      <th>Number of Job Postings</th>\n",
       "    </tr>\n",
       "  </thead>\n",
       "  <tbody>\n",
       "    <tr>\n",
       "      <th>0</th>\n",
       "      <td>C</td>\n",
       "      <td>817</td>\n",
       "    </tr>\n",
       "    <tr>\n",
       "      <th>1</th>\n",
       "      <td>C#</td>\n",
       "      <td>487</td>\n",
       "    </tr>\n",
       "    <tr>\n",
       "      <th>2</th>\n",
       "      <td>C++</td>\n",
       "      <td>496</td>\n",
       "    </tr>\n",
       "    <tr>\n",
       "      <th>3</th>\n",
       "      <td>Java</td>\n",
       "      <td>1209</td>\n",
       "    </tr>\n",
       "    <tr>\n",
       "      <th>4</th>\n",
       "      <td>JavaScript</td>\n",
       "      <td>2241</td>\n",
       "    </tr>\n",
       "    <tr>\n",
       "      <th>5</th>\n",
       "      <td>Python</td>\n",
       "      <td>1165</td>\n",
       "    </tr>\n",
       "    <tr>\n",
       "      <th>6</th>\n",
       "      <td>Scala</td>\n",
       "      <td>89</td>\n",
       "    </tr>\n",
       "    <tr>\n",
       "      <th>7</th>\n",
       "      <td>Oracle</td>\n",
       "      <td>614</td>\n",
       "    </tr>\n",
       "    <tr>\n",
       "      <th>8</th>\n",
       "      <td>SQL Server</td>\n",
       "      <td>310</td>\n",
       "    </tr>\n",
       "    <tr>\n",
       "      <th>9</th>\n",
       "      <td>MySQL</td>\n",
       "      <td>920</td>\n",
       "    </tr>\n",
       "    <tr>\n",
       "      <th>10</th>\n",
       "      <td>PostgreSQL</td>\n",
       "      <td>86</td>\n",
       "    </tr>\n",
       "    <tr>\n",
       "      <th>11</th>\n",
       "      <td>MongoDB</td>\n",
       "      <td>208</td>\n",
       "    </tr>\n",
       "  </tbody>\n",
       "</table>\n",
       "</div>"
      ],
      "text/plain": [
       "    Technology  Number of Job Postings\n",
       "0            C                     817\n",
       "1           C#                     487\n",
       "2          C++                     496\n",
       "3         Java                    1209\n",
       "4   JavaScript                    2241\n",
       "5       Python                    1165\n",
       "6        Scala                      89\n",
       "7       Oracle                     614\n",
       "8   SQL Server                     310\n",
       "9        MySQL                     920\n",
       "10  PostgreSQL                      86\n",
       "11     MongoDB                     208"
      ]
     },
     "execution_count": 74,
     "metadata": {},
     "output_type": "execute_result"
    }
   ],
   "source": [
    "# check dataframe\n",
    "df"
   ]
  },
  {
   "cell_type": "markdown",
   "id": "34c7fa62-838c-401b-a1b2-1770af32f782",
   "metadata": {},
   "source": [
    "#### Plot the data to visualize and make inferences"
   ]
  },
  {
   "cell_type": "code",
   "execution_count": 75,
   "id": "5cadf5c2-fbe9-4dd4-b5d1-440814d0aa17",
   "metadata": {},
   "outputs": [],
   "source": [
    "# Import the relevant library\n",
    "import matplotlib.pyplot as plt"
   ]
  },
  {
   "cell_type": "code",
   "execution_count": 76,
   "id": "eeabc966-f5d1-4c09-8bd7-8d822246c10d",
   "metadata": {},
   "outputs": [
    {
     "data": {
      "image/png": "[encoded data removed]",
      "text/plain": [
       "<Figure size 800x500 with 1 Axes>"
      ]
     },
     "metadata": {},
     "output_type": "display_data"
    }
   ],
   "source": [
    "# plot the data\n",
    "plt.figure(figsize=(8, 5))\n",
    "\n",
    "# sort dataframe in descending order\n",
    "df = df.sort_values(by='Number of Job Postings', ascending=False)\n",
    "\n",
    "# bar plot\n",
    "bars = plt.bar(df['Technology'],df['Number of Job Postings'], color='skyblue')\n",
    "\n",
    "# Add number labels on top of bars\n",
    "for bar in bars:\n",
    "    height = bar.get_height()\n",
    "    plt.text(bar.get_x() + bar.get_width()/2, height + 2,  # position: middle top\n",
    "             f'{int(height)}', ha='center', va='bottom')  # height is the y-value\n",
    "\n",
    "plt.title('Job Postings by Technology')\n",
    "plt.xlabel('Technology')\n",
    "plt.ylabel('Number of Job Postings')\n",
    "plt.xticks(rotation=45)  \n",
    "plt.tight_layout()       # Adjust layout\n",
    "plt.show()\n"
   ]
  },
  {
   "cell_type": "markdown",
   "id": "a5302922-1018-4532-946a-f56c64b61200",
   "metadata": {},
   "source": [
    "#### Store Results in Excel File"
   ]
  },
  {
   "cell_type": "code",
   "execution_count": 77,
   "id": "5f4f11a8-1589-4921-9ebb-e53cf2b871f5",
   "metadata": {},
   "outputs": [],
   "source": [
    "# save dataframe to excel sheet\n",
    "df.to_excel('job postings.xlsx',index=False)"
   ]
  },
  {
   "cell_type": "markdown",
   "id": "31f5e26c-f05d-4e84-9239-b76e325cf8a3",
   "metadata": {},
   "source": [
    "### Identify Top 10 Key Skills in Job Postings"
   ]
  },
  {
   "cell_type": "code",
   "execution_count": 78,
   "id": "14ea342b-bce5-4202-bbfe-b21cde1fe66c",
   "metadata": {},
   "outputs": [
    {
     "data": {
      "text/plain": [
       "[('javascript', 2251),\n",
       " ('sales', 1821),\n",
       " ('sql', 1543),\n",
       " ('html', 1532),\n",
       " ('customer service', 1292),\n",
       " ('java', 1210),\n",
       " ('python', 1165),\n",
       " ('jquery', 1088),\n",
       " ('business development', 1055),\n",
       " ('recruitment', 1037)]"
      ]
     },
     "execution_count": 78,
     "metadata": {},
     "output_type": "execute_result"
    }
   ],
   "source": [
    "from collections import Counter \n",
    "\n",
    "# flatten all skills into one big list\n",
    "# note - this loops through each row in the tech_df key skill set column and adds each element to all_skills list\n",
    "all_skills = [skill for skills in tech_df['Skill List'] for skill in skills]\n",
    "\n",
    "# count the frequency of each skill\n",
    "skill_counts = Counter(all_skills)\n",
    "\n",
    "# get the top 10 skills\n",
    "top_10_skills = skill_counts.most_common(10)\n",
    "top_10_skills\n",
    "\n"
   ]
  },
  {
   "cell_type": "code",
   "execution_count": 79,
   "id": "f615497f-ca01-45b8-b57d-731fc88ac36a",
   "metadata": {},
   "outputs": [
    {
     "data": {
      "image/png": "[encoded data removed]",
      "text/plain": [
       "<Figure size 800x500 with 1 Axes>"
      ]
     },
     "metadata": {},
     "output_type": "display_data"
    }
   ],
   "source": [
    "# convert to DataFrame for plotting purposes\n",
    "top_skills_df = pd.DataFrame(top_10_skills, columns=['Skill', 'Count'])\n",
    "plt.figure(figsize=(8, 5))\n",
    "plt.bar(top_skills_df['Skill'], top_skills_df['Count'], color='skyblue')\n",
    "plt.title('Top 10 Key Skills in Job Postings')\n",
    "plt.xlabel('Skill')\n",
    "plt.ylabel('Frequency')\n",
    "plt.xticks(rotation=90)\n",
    "plt.tight_layout()\n",
    "plt.show()"
   ]
  },
  {
   "cell_type": "markdown",
   "id": "bcebe865-bd9b-416b-93ee-c5fcbabcb9bf",
   "metadata": {},
   "source": [
    "### Inference:\n",
    "#### Demand for Programming Language Skills:\n",
    "Based on an analysis of job postings from Naukri.com (via the Kaggle dataset linked above), it’s evident that JavaScript stands out as the most in-demand technology, appearing in over 2,200 job postings. This is followed by Java and Python, highlighting their continued relevance in full-stack, backend, and data-related roles.\n",
    "\n",
    "Among databases, MySQL leads in demand, followed by Oracle, SQL Server, and MongoDB, indicating a strong market need for proficiency in both relational and NoSQL databases. Older but widely used languages like C, C++, and C# still feature significantly, reflecting the industry's need for systems programming, enterprise solutions, and legacy system support.\n",
    "\n",
    "The lower number of postings for technologies like Scala, PostgreSQL, and MongoDB doesn’t necessarily imply lack of value — it may reflect their specialized use in particular industries or fewer companies currently hiring for those stacks.\n",
    "\n",
    "Overall, the job market favors versatile, widely adopted languages and database proficiency, making them strategic skill areas for aspiring and current tech professionals.\n",
    "\n",
    "#### Top 10 Key Skills:\n",
    "From the extracted key skills in job postings, technical and soft/business skills appear side by side in demand. JavaScript tops the list (2,251 mentions), reaffirming its dominance as a core web development language. This is closely followed by SQL and HTML, which are foundational for both front-end and back-end roles. The appearance of Python and Java further reflects the industry’s demand for flexible, general-purpose programming knowledge.\n",
    "\n",
    "Interestingly, sales, customer service, business development, and recruitment are also among the top 10. This suggests that the dataset encompasses a broad range of job categories, not limited to just tech roles. It highlights the growing importance of cross-functional skills, where communication, client handling, and business understanding are as valued as technical expertise.\n",
    "\n",
    "The presence of jQuery indicates continued reliance on legacy or widely-used JavaScript frameworks in many companies, especially in regions where modernization of tech stacks may be slower.\n",
    "\n",
    "In summary, while technical proficiency is crucial, this data underscores that well-rounded candidates with a mix of coding, data, and interpersonal skills are in highest demand."
   ]
  },
  {
   "cell_type": "markdown",
   "id": "8f43ca3e-8fd1-4256-8630-5d3449aa2de3",
   "metadata": {},
   "source": [
    "## Web Scraping Average Salary Data"
   ]
  },
  {
   "cell_type": "markdown",
   "id": "3a79dfcd-8b75-4bb6-a7a2-419af19f9539",
   "metadata": {},
   "source": [
    "Data needs to be extracted from the below web site:\n",
    "https://cf-courses-data.s3.us.cloud-object-storage.appdomain.cloud/IBM-DA0321EN-SkillsNetwork/labs/datasets/Programming_Languages.html\n",
    "\n"
   ]
  },
  {
   "cell_type": "markdown",
   "id": "a7b4c205-c5db-45e1-8e4e-0e1c67c204d7",
   "metadata": {},
   "source": [
    "### Objective\n",
    "\n",
    "The information we need is the name of the programming language and average annual salary."
   ]
  },
  {
   "cell_type": "markdown",
   "id": "e21d1387-dc1a-44f1-a703-86c332b785e8",
   "metadata": {},
   "source": [
    "Import the required libraries"
   ]
  },
  {
   "cell_type": "code",
   "execution_count": 80,
   "id": "414108bd-b579-4b3a-ae09-0fba9bd48349",
   "metadata": {},
   "outputs": [],
   "source": [
    "from bs4 import BeautifulSoup # this helps in web scrapping.\n",
    "import requests  # this helps us to download a webpage\n",
    "import pandas as pd"
   ]
  },
  {
   "cell_type": "code",
   "execution_count": 81,
   "id": "c60dd2c1-b9de-4e2b-8762-731cc0dac3f0",
   "metadata": {},
   "outputs": [],
   "source": [
    "# url for web scraping\n",
    "url = \"https://cf-courses-data.s3.us.cloud-object-storage.appdomain.cloud/IBM-DA0321EN-SkillsNetwork/labs/datasets/Programming_Languages.html\"\n",
    "\n",
    "# get the contents of the webpage in text format and store in a variable called data\n",
    "data  = requests.get(url, verify = False).text "
   ]
  },
  {
   "cell_type": "code",
   "execution_count": 82,
   "id": "55f00731-68e2-4bcc-a392-1c8e6bd5466e",
   "metadata": {},
   "outputs": [],
   "source": [
    "# create a soup object\n",
    "soup = BeautifulSoup(data,\"html.parser\")  # create a soup object using the variable 'data'"
   ]
  },
  {
   "cell_type": "markdown",
   "id": "b69ec960-f654-4053-944a-b125a7dbec23",
   "metadata": {},
   "source": [
    "Scrape the `Language name` and `annual average salary`."
   ]
  },
  {
   "cell_type": "code",
   "execution_count": 83,
   "id": "3458500c-24b0-432d-b6b1-7ef43b0dab9e",
   "metadata": {},
   "outputs": [
    {
     "name": "stdout",
     "output_type": "stream",
     "text": [
      "Python--->$114,383\n",
      "Java--->$101,013\n",
      "R--->$92,037\n",
      "Javascript--->$110,981\n",
      "Swift--->$130,801\n",
      "C++--->$113,865\n",
      "C#--->$88,726\n",
      "PHP--->$84,727\n",
      "SQL--->$84,793\n",
      "Go--->$94,082\n"
     ]
    },
    {
     "data": {
      "text/html": [
       "<div>\n",
       "<style scoped>\n",
       "    .dataframe tbody tr th:only-of-type {\n",
       "        vertical-align: middle;\n",
       "    }\n",
       "\n",
       "    .dataframe tbody tr th {\n",
       "        vertical-align: top;\n",
       "    }\n",
       "\n",
       "    .dataframe thead th {\n",
       "        text-align: right;\n",
       "    }\n",
       "</style>\n",
       "<table border=\"1\" class=\"dataframe\">\n",
       "  <thead>\n",
       "    <tr style=\"text-align: right;\">\n",
       "      <th></th>\n",
       "      <th>language</th>\n",
       "      <th>annual_average_salary</th>\n",
       "    </tr>\n",
       "  </thead>\n",
       "  <tbody>\n",
       "    <tr>\n",
       "      <th>4</th>\n",
       "      <td>Swift</td>\n",
       "      <td>130801</td>\n",
       "    </tr>\n",
       "    <tr>\n",
       "      <th>0</th>\n",
       "      <td>Python</td>\n",
       "      <td>114383</td>\n",
       "    </tr>\n",
       "    <tr>\n",
       "      <th>5</th>\n",
       "      <td>C++</td>\n",
       "      <td>113865</td>\n",
       "    </tr>\n",
       "    <tr>\n",
       "      <th>3</th>\n",
       "      <td>Javascript</td>\n",
       "      <td>110981</td>\n",
       "    </tr>\n",
       "    <tr>\n",
       "      <th>1</th>\n",
       "      <td>Java</td>\n",
       "      <td>101013</td>\n",
       "    </tr>\n",
       "  </tbody>\n",
       "</table>\n",
       "</div>"
      ],
      "text/plain": [
       "     language  annual_average_salary\n",
       "4       Swift                 130801\n",
       "0      Python                 114383\n",
       "5         C++                 113865\n",
       "3  Javascript                 110981\n",
       "1        Java                 101013"
      ]
     },
     "execution_count": 83,
     "metadata": {},
     "output_type": "execute_result"
    }
   ],
   "source": [
    "#find a html table in the web page\n",
    "table = soup.find('table') # in html table is represented by the tag <table>\n",
    "\n",
    "# create empty list to store language name and annual average salary\n",
    "language_salaries = []\n",
    "\n",
    "for row in table.find_all('tr')[1:]:  # skip first <tr> which is header # in html table row is represented by the tag <tr>\n",
    "    # Get all columns in each row.\n",
    "    cols = row.find_all('td') # in html a column is represented by the tag <td>\n",
    "    language_name = cols[1].getText()\n",
    "    annual_ave_salary = cols[3].getText()\n",
    "    print(\"{}--->{}\".format(language_name,annual_ave_salary))\n",
    "    \n",
    "    language_salaries.append({\n",
    "            'language': language_name,\n",
    "            'annual_average_salary': annual_ave_salary\n",
    "    })\n",
    "\n",
    "# convert into a dataframe\n",
    "salary_df = pd.DataFrame(language_salaries)\n",
    "\n",
    "# convert from string to integer\n",
    "salary_df['annual_average_salary'] = salary_df['annual_average_salary'].str.replace(r'[\\$,]', '', regex=True).astype(int)\n",
    "salary_df = salary_df.sort_values(by='annual_average_salary', ascending=False)\n",
    "salary_df.head()"
   ]
  },
  {
   "cell_type": "code",
   "execution_count": 84,
   "id": "aa218cce-1768-408e-a5a4-3a4ffe09fab4",
   "metadata": {},
   "outputs": [
    {
     "data": {
      "image/png": "[encoded data removed]",
      "text/plain": [
       "<Figure size 800x500 with 1 Axes>"
      ]
     },
     "metadata": {},
     "output_type": "display_data"
    }
   ],
   "source": [
    "# Plot the languages and their average salary\n",
    "plt.figure(figsize=(8, 5))\n",
    "plt.bar(salary_df['language'], salary_df['annual_average_salary'], color='skyblue')\n",
    "plt.title('Annual Average Salary per Language')\n",
    "plt.xlabel('Language')\n",
    "plt.ylabel('Annual Average Salary')\n",
    "plt.xticks(rotation=90)\n",
    "plt.tight_layout()\n",
    "plt.show()"
   ]
  },
  {
   "cell_type": "markdown",
   "id": "dcffc020-5631-487b-b97f-d3c61f9361ae",
   "metadata": {},
   "source": [
    "### Inference\n",
    "\n",
    "Based on web-scraped salary data, Swift developers command the highest average salary at \\\\$130,801, likely due to the specialized and high-demand nature of iOS development. This is followed by Python (\\\\$114,383), C++ (\\\\$113,865), and JavaScript (\\\\$110,981) — all versatile languages used across data science, backend, and full-stack roles.\n",
    "\n",
    "Languages such as Java (\\\\$101,013) and Go (\\\\$94,082) also offer strong earning potential, reflecting their popularity in enterprise and scalable application development. Meanwhile, R, C#, PHP, and SQL fall on the lower end of the salary spectrum (ranging from ~\\\\$84k to \\\\$92k), potentially due to broader availability of developers or use in roles that don’t always require deep software engineering skills.\n",
    "\n",
    "Overall, languages tied to mobile development, data science, and high-performance computing tend to offer higher compensation, while more ubiquitous or specialized scripting/database languages may offer comparatively lower averages."
   ]
  },
  {
   "cell_type": "markdown",
   "id": "ac00352c-71c2-4348-884e-41e6c857dfe7",
   "metadata": {},
   "source": [
    "Save the scrapped data into an CSV file "
   ]
  },
  {
   "cell_type": "code",
   "execution_count": 85,
   "id": "e5a6e00c-cc62-4f14-a653-93c591c9f966",
   "metadata": {},
   "outputs": [],
   "source": [
    "import csv\n",
    "\n",
    "with open('language_salaries.csv', 'w', newline='') as csvfile:\n",
    "    \n",
    "    writer = csv.DictWriter(csvfile, fieldnames=['language', 'annual_average_salary'])\n",
    "\n",
    "    writer.writeheader()\n",
    "    writer.writerows(language_salaries)"
   ]
  }
 ],
 "metadata": {
  "kernelspec": {
   "display_name": "Python 3 (ipykernel)",
   "language": "python",
   "name": "python3"
  },
  "language_info": {
   "codemirror_mode": {
    "name": "ipython",
    "version": 3
   },
   "file_extension": ".py",
   "mimetype": "text/x-python",
   "name": "python",
   "nbconvert_exporter": "python",
   "pygments_lexer": "ipython3",
   "version": "3.12.7"
  }
 },
 "nbformat": 4,
 "nbformat_minor": 5
}
